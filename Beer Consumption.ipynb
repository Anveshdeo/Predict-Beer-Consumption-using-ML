{
 "cells": [
  {
   "cell_type": "code",
   "execution_count": 1,
   "metadata": {},
   "outputs": [],
   "source": [
    "import numpy as np\n",
    "import pandas as pd\n",
    "import matplotlib.pyplot as plt"
   ]
  },
  {
   "cell_type": "code",
   "execution_count": 2,
   "metadata": {},
   "outputs": [
    {
     "data": {
      "text/html": [
       "<div>\n",
       "<style scoped>\n",
       "    .dataframe tbody tr th:only-of-type {\n",
       "        vertical-align: middle;\n",
       "    }\n",
       "\n",
       "    .dataframe tbody tr th {\n",
       "        vertical-align: top;\n",
       "    }\n",
       "\n",
       "    .dataframe thead th {\n",
       "        text-align: right;\n",
       "    }\n",
       "</style>\n",
       "<table border=\"1\" class=\"dataframe\">\n",
       "  <thead>\n",
       "    <tr style=\"text-align: right;\">\n",
       "      <th></th>\n",
       "      <th>Data</th>\n",
       "      <th>Temperatura Media (C)</th>\n",
       "      <th>Temperatura Minima (C)</th>\n",
       "      <th>Temperatura Maxima (C)</th>\n",
       "      <th>Precipitacao (mm)</th>\n",
       "      <th>Final de Semana</th>\n",
       "      <th>Consumo de cerveja (litros)</th>\n",
       "    </tr>\n",
       "  </thead>\n",
       "  <tbody>\n",
       "    <tr>\n",
       "      <th>0</th>\n",
       "      <td>2015-01-01</td>\n",
       "      <td>27,3</td>\n",
       "      <td>23,9</td>\n",
       "      <td>32,5</td>\n",
       "      <td>0</td>\n",
       "      <td>0.0</td>\n",
       "      <td>25.461</td>\n",
       "    </tr>\n",
       "    <tr>\n",
       "      <th>1</th>\n",
       "      <td>2015-01-02</td>\n",
       "      <td>27,02</td>\n",
       "      <td>24,5</td>\n",
       "      <td>33,5</td>\n",
       "      <td>0</td>\n",
       "      <td>0.0</td>\n",
       "      <td>28.972</td>\n",
       "    </tr>\n",
       "    <tr>\n",
       "      <th>2</th>\n",
       "      <td>2015-01-03</td>\n",
       "      <td>24,82</td>\n",
       "      <td>22,4</td>\n",
       "      <td>29,9</td>\n",
       "      <td>0</td>\n",
       "      <td>1.0</td>\n",
       "      <td>30.814</td>\n",
       "    </tr>\n",
       "    <tr>\n",
       "      <th>3</th>\n",
       "      <td>2015-01-04</td>\n",
       "      <td>23,98</td>\n",
       "      <td>21,5</td>\n",
       "      <td>28,6</td>\n",
       "      <td>1,2</td>\n",
       "      <td>1.0</td>\n",
       "      <td>29.799</td>\n",
       "    </tr>\n",
       "    <tr>\n",
       "      <th>4</th>\n",
       "      <td>2015-01-05</td>\n",
       "      <td>23,82</td>\n",
       "      <td>21</td>\n",
       "      <td>28,3</td>\n",
       "      <td>0</td>\n",
       "      <td>0.0</td>\n",
       "      <td>28.900</td>\n",
       "    </tr>\n",
       "    <tr>\n",
       "      <th>...</th>\n",
       "      <td>...</td>\n",
       "      <td>...</td>\n",
       "      <td>...</td>\n",
       "      <td>...</td>\n",
       "      <td>...</td>\n",
       "      <td>...</td>\n",
       "      <td>...</td>\n",
       "    </tr>\n",
       "    <tr>\n",
       "      <th>936</th>\n",
       "      <td>NaN</td>\n",
       "      <td>NaN</td>\n",
       "      <td>NaN</td>\n",
       "      <td>NaN</td>\n",
       "      <td>NaN</td>\n",
       "      <td>NaN</td>\n",
       "      <td>NaN</td>\n",
       "    </tr>\n",
       "    <tr>\n",
       "      <th>937</th>\n",
       "      <td>NaN</td>\n",
       "      <td>NaN</td>\n",
       "      <td>NaN</td>\n",
       "      <td>NaN</td>\n",
       "      <td>NaN</td>\n",
       "      <td>NaN</td>\n",
       "      <td>NaN</td>\n",
       "    </tr>\n",
       "    <tr>\n",
       "      <th>938</th>\n",
       "      <td>NaN</td>\n",
       "      <td>NaN</td>\n",
       "      <td>NaN</td>\n",
       "      <td>NaN</td>\n",
       "      <td>NaN</td>\n",
       "      <td>NaN</td>\n",
       "      <td>NaN</td>\n",
       "    </tr>\n",
       "    <tr>\n",
       "      <th>939</th>\n",
       "      <td>NaN</td>\n",
       "      <td>NaN</td>\n",
       "      <td>NaN</td>\n",
       "      <td>NaN</td>\n",
       "      <td>NaN</td>\n",
       "      <td>NaN</td>\n",
       "      <td>NaN</td>\n",
       "    </tr>\n",
       "    <tr>\n",
       "      <th>940</th>\n",
       "      <td>NaN</td>\n",
       "      <td>NaN</td>\n",
       "      <td>NaN</td>\n",
       "      <td>NaN</td>\n",
       "      <td>NaN</td>\n",
       "      <td>NaN</td>\n",
       "      <td>NaN</td>\n",
       "    </tr>\n",
       "  </tbody>\n",
       "</table>\n",
       "<p>941 rows × 7 columns</p>\n",
       "</div>"
      ],
      "text/plain": [
       "           Data Temperatura Media (C) Temperatura Minima (C)  \\\n",
       "0    2015-01-01                  27,3                   23,9   \n",
       "1    2015-01-02                 27,02                   24,5   \n",
       "2    2015-01-03                 24,82                   22,4   \n",
       "3    2015-01-04                 23,98                   21,5   \n",
       "4    2015-01-05                 23,82                     21   \n",
       "..          ...                   ...                    ...   \n",
       "936         NaN                   NaN                    NaN   \n",
       "937         NaN                   NaN                    NaN   \n",
       "938         NaN                   NaN                    NaN   \n",
       "939         NaN                   NaN                    NaN   \n",
       "940         NaN                   NaN                    NaN   \n",
       "\n",
       "    Temperatura Maxima (C) Precipitacao (mm)  Final de Semana  \\\n",
       "0                     32,5                 0              0.0   \n",
       "1                     33,5                 0              0.0   \n",
       "2                     29,9                 0              1.0   \n",
       "3                     28,6               1,2              1.0   \n",
       "4                     28,3                 0              0.0   \n",
       "..                     ...               ...              ...   \n",
       "936                    NaN               NaN              NaN   \n",
       "937                    NaN               NaN              NaN   \n",
       "938                    NaN               NaN              NaN   \n",
       "939                    NaN               NaN              NaN   \n",
       "940                    NaN               NaN              NaN   \n",
       "\n",
       "     Consumo de cerveja (litros)  \n",
       "0                         25.461  \n",
       "1                         28.972  \n",
       "2                         30.814  \n",
       "3                         29.799  \n",
       "4                         28.900  \n",
       "..                           ...  \n",
       "936                          NaN  \n",
       "937                          NaN  \n",
       "938                          NaN  \n",
       "939                          NaN  \n",
       "940                          NaN  \n",
       "\n",
       "[941 rows x 7 columns]"
      ]
     },
     "execution_count": 2,
     "metadata": {},
     "output_type": "execute_result"
    }
   ],
   "source": [
    "df=pd.read_csv('Consumo_cerveja.csv')\n",
    "df"
   ]
  },
  {
   "cell_type": "code",
   "execution_count": 3,
   "metadata": {},
   "outputs": [],
   "source": [
    "df.rename(columns={\"Data\":\"Date\",\"Temperatura Media (C)\":\"Average temperature (C)\",\"Temperatura Minima (C)\":\"Minimum Temperature (C)\",\"Temperatura Maxima (C)\":\"Maximum Temperature (C)\",\"Precipitacao (mm)\":\"Precipitation (mm)\",\"Final de Semana\":\"Weekend\",\"Consumo de cerveja (litros)\":\"Beer consumption (liters)\"},inplace=True)"
   ]
  },
  {
   "cell_type": "code",
   "execution_count": 4,
   "metadata": {},
   "outputs": [
    {
     "data": {
      "text/html": [
       "<div>\n",
       "<style scoped>\n",
       "    .dataframe tbody tr th:only-of-type {\n",
       "        vertical-align: middle;\n",
       "    }\n",
       "\n",
       "    .dataframe tbody tr th {\n",
       "        vertical-align: top;\n",
       "    }\n",
       "\n",
       "    .dataframe thead th {\n",
       "        text-align: right;\n",
       "    }\n",
       "</style>\n",
       "<table border=\"1\" class=\"dataframe\">\n",
       "  <thead>\n",
       "    <tr style=\"text-align: right;\">\n",
       "      <th></th>\n",
       "      <th>Date</th>\n",
       "      <th>Average temperature (C)</th>\n",
       "      <th>Minimum Temperature (C)</th>\n",
       "      <th>Maximum Temperature (C)</th>\n",
       "      <th>Precipitation (mm)</th>\n",
       "      <th>Weekend</th>\n",
       "      <th>Beer consumption (liters)</th>\n",
       "    </tr>\n",
       "  </thead>\n",
       "  <tbody>\n",
       "    <tr>\n",
       "      <th>0</th>\n",
       "      <td>2015-01-01</td>\n",
       "      <td>27,3</td>\n",
       "      <td>23,9</td>\n",
       "      <td>32,5</td>\n",
       "      <td>0</td>\n",
       "      <td>0.0</td>\n",
       "      <td>25.461</td>\n",
       "    </tr>\n",
       "    <tr>\n",
       "      <th>1</th>\n",
       "      <td>2015-01-02</td>\n",
       "      <td>27,02</td>\n",
       "      <td>24,5</td>\n",
       "      <td>33,5</td>\n",
       "      <td>0</td>\n",
       "      <td>0.0</td>\n",
       "      <td>28.972</td>\n",
       "    </tr>\n",
       "    <tr>\n",
       "      <th>2</th>\n",
       "      <td>2015-01-03</td>\n",
       "      <td>24,82</td>\n",
       "      <td>22,4</td>\n",
       "      <td>29,9</td>\n",
       "      <td>0</td>\n",
       "      <td>1.0</td>\n",
       "      <td>30.814</td>\n",
       "    </tr>\n",
       "    <tr>\n",
       "      <th>3</th>\n",
       "      <td>2015-01-04</td>\n",
       "      <td>23,98</td>\n",
       "      <td>21,5</td>\n",
       "      <td>28,6</td>\n",
       "      <td>1,2</td>\n",
       "      <td>1.0</td>\n",
       "      <td>29.799</td>\n",
       "    </tr>\n",
       "    <tr>\n",
       "      <th>4</th>\n",
       "      <td>2015-01-05</td>\n",
       "      <td>23,82</td>\n",
       "      <td>21</td>\n",
       "      <td>28,3</td>\n",
       "      <td>0</td>\n",
       "      <td>0.0</td>\n",
       "      <td>28.900</td>\n",
       "    </tr>\n",
       "    <tr>\n",
       "      <th>...</th>\n",
       "      <td>...</td>\n",
       "      <td>...</td>\n",
       "      <td>...</td>\n",
       "      <td>...</td>\n",
       "      <td>...</td>\n",
       "      <td>...</td>\n",
       "      <td>...</td>\n",
       "    </tr>\n",
       "    <tr>\n",
       "      <th>936</th>\n",
       "      <td>NaN</td>\n",
       "      <td>NaN</td>\n",
       "      <td>NaN</td>\n",
       "      <td>NaN</td>\n",
       "      <td>NaN</td>\n",
       "      <td>NaN</td>\n",
       "      <td>NaN</td>\n",
       "    </tr>\n",
       "    <tr>\n",
       "      <th>937</th>\n",
       "      <td>NaN</td>\n",
       "      <td>NaN</td>\n",
       "      <td>NaN</td>\n",
       "      <td>NaN</td>\n",
       "      <td>NaN</td>\n",
       "      <td>NaN</td>\n",
       "      <td>NaN</td>\n",
       "    </tr>\n",
       "    <tr>\n",
       "      <th>938</th>\n",
       "      <td>NaN</td>\n",
       "      <td>NaN</td>\n",
       "      <td>NaN</td>\n",
       "      <td>NaN</td>\n",
       "      <td>NaN</td>\n",
       "      <td>NaN</td>\n",
       "      <td>NaN</td>\n",
       "    </tr>\n",
       "    <tr>\n",
       "      <th>939</th>\n",
       "      <td>NaN</td>\n",
       "      <td>NaN</td>\n",
       "      <td>NaN</td>\n",
       "      <td>NaN</td>\n",
       "      <td>NaN</td>\n",
       "      <td>NaN</td>\n",
       "      <td>NaN</td>\n",
       "    </tr>\n",
       "    <tr>\n",
       "      <th>940</th>\n",
       "      <td>NaN</td>\n",
       "      <td>NaN</td>\n",
       "      <td>NaN</td>\n",
       "      <td>NaN</td>\n",
       "      <td>NaN</td>\n",
       "      <td>NaN</td>\n",
       "      <td>NaN</td>\n",
       "    </tr>\n",
       "  </tbody>\n",
       "</table>\n",
       "<p>941 rows × 7 columns</p>\n",
       "</div>"
      ],
      "text/plain": [
       "           Date Average temperature (C) Minimum Temperature (C)  \\\n",
       "0    2015-01-01                    27,3                    23,9   \n",
       "1    2015-01-02                   27,02                    24,5   \n",
       "2    2015-01-03                   24,82                    22,4   \n",
       "3    2015-01-04                   23,98                    21,5   \n",
       "4    2015-01-05                   23,82                      21   \n",
       "..          ...                     ...                     ...   \n",
       "936         NaN                     NaN                     NaN   \n",
       "937         NaN                     NaN                     NaN   \n",
       "938         NaN                     NaN                     NaN   \n",
       "939         NaN                     NaN                     NaN   \n",
       "940         NaN                     NaN                     NaN   \n",
       "\n",
       "    Maximum Temperature (C) Precipitation (mm)  Weekend  \\\n",
       "0                      32,5                  0      0.0   \n",
       "1                      33,5                  0      0.0   \n",
       "2                      29,9                  0      1.0   \n",
       "3                      28,6                1,2      1.0   \n",
       "4                      28,3                  0      0.0   \n",
       "..                      ...                ...      ...   \n",
       "936                     NaN                NaN      NaN   \n",
       "937                     NaN                NaN      NaN   \n",
       "938                     NaN                NaN      NaN   \n",
       "939                     NaN                NaN      NaN   \n",
       "940                     NaN                NaN      NaN   \n",
       "\n",
       "     Beer consumption (liters)  \n",
       "0                       25.461  \n",
       "1                       28.972  \n",
       "2                       30.814  \n",
       "3                       29.799  \n",
       "4                       28.900  \n",
       "..                         ...  \n",
       "936                        NaN  \n",
       "937                        NaN  \n",
       "938                        NaN  \n",
       "939                        NaN  \n",
       "940                        NaN  \n",
       "\n",
       "[941 rows x 7 columns]"
      ]
     },
     "execution_count": 4,
     "metadata": {},
     "output_type": "execute_result"
    }
   ],
   "source": [
    "df"
   ]
  },
  {
   "cell_type": "code",
   "execution_count": 5,
   "metadata": {},
   "outputs": [],
   "source": [
    "df.drop(['Date'],axis=1,inplace=True)"
   ]
  },
  {
   "cell_type": "code",
   "execution_count": 6,
   "metadata": {},
   "outputs": [
    {
     "data": {
      "text/html": [
       "<div>\n",
       "<style scoped>\n",
       "    .dataframe tbody tr th:only-of-type {\n",
       "        vertical-align: middle;\n",
       "    }\n",
       "\n",
       "    .dataframe tbody tr th {\n",
       "        vertical-align: top;\n",
       "    }\n",
       "\n",
       "    .dataframe thead th {\n",
       "        text-align: right;\n",
       "    }\n",
       "</style>\n",
       "<table border=\"1\" class=\"dataframe\">\n",
       "  <thead>\n",
       "    <tr style=\"text-align: right;\">\n",
       "      <th></th>\n",
       "      <th>Weekend</th>\n",
       "      <th>Beer consumption (liters)</th>\n",
       "    </tr>\n",
       "  </thead>\n",
       "  <tbody>\n",
       "    <tr>\n",
       "      <th>count</th>\n",
       "      <td>365.000000</td>\n",
       "      <td>365.000000</td>\n",
       "    </tr>\n",
       "    <tr>\n",
       "      <th>mean</th>\n",
       "      <td>0.284932</td>\n",
       "      <td>25.401367</td>\n",
       "    </tr>\n",
       "    <tr>\n",
       "      <th>std</th>\n",
       "      <td>0.452001</td>\n",
       "      <td>4.399143</td>\n",
       "    </tr>\n",
       "    <tr>\n",
       "      <th>min</th>\n",
       "      <td>0.000000</td>\n",
       "      <td>14.343000</td>\n",
       "    </tr>\n",
       "    <tr>\n",
       "      <th>25%</th>\n",
       "      <td>0.000000</td>\n",
       "      <td>22.008000</td>\n",
       "    </tr>\n",
       "    <tr>\n",
       "      <th>50%</th>\n",
       "      <td>0.000000</td>\n",
       "      <td>24.867000</td>\n",
       "    </tr>\n",
       "    <tr>\n",
       "      <th>75%</th>\n",
       "      <td>1.000000</td>\n",
       "      <td>28.631000</td>\n",
       "    </tr>\n",
       "    <tr>\n",
       "      <th>max</th>\n",
       "      <td>1.000000</td>\n",
       "      <td>37.937000</td>\n",
       "    </tr>\n",
       "  </tbody>\n",
       "</table>\n",
       "</div>"
      ],
      "text/plain": [
       "          Weekend  Beer consumption (liters)\n",
       "count  365.000000                 365.000000\n",
       "mean     0.284932                  25.401367\n",
       "std      0.452001                   4.399143\n",
       "min      0.000000                  14.343000\n",
       "25%      0.000000                  22.008000\n",
       "50%      0.000000                  24.867000\n",
       "75%      1.000000                  28.631000\n",
       "max      1.000000                  37.937000"
      ]
     },
     "execution_count": 6,
     "metadata": {},
     "output_type": "execute_result"
    }
   ],
   "source": [
    "df.describe()"
   ]
  },
  {
   "cell_type": "code",
   "execution_count": 7,
   "metadata": {},
   "outputs": [
    {
     "name": "stdout",
     "output_type": "stream",
     "text": [
      "<class 'pandas.core.frame.DataFrame'>\n",
      "RangeIndex: 941 entries, 0 to 940\n",
      "Data columns (total 6 columns):\n",
      " #   Column                     Non-Null Count  Dtype  \n",
      "---  ------                     --------------  -----  \n",
      " 0   Average temperature (C)    365 non-null    object \n",
      " 1   Minimum Temperature (C)    365 non-null    object \n",
      " 2   Maximum Temperature (C)    365 non-null    object \n",
      " 3   Precipitation (mm)         365 non-null    object \n",
      " 4   Weekend                    365 non-null    float64\n",
      " 5   Beer consumption (liters)  365 non-null    float64\n",
      "dtypes: float64(2), object(4)\n",
      "memory usage: 44.2+ KB\n"
     ]
    }
   ],
   "source": [
    "df.info()"
   ]
  },
  {
   "cell_type": "code",
   "execution_count": 8,
   "metadata": {},
   "outputs": [
    {
     "data": {
      "text/plain": [
       "Average temperature (C)      True\n",
       "Minimum Temperature (C)      True\n",
       "Maximum Temperature (C)      True\n",
       "Precipitation (mm)           True\n",
       "Weekend                      True\n",
       "Beer consumption (liters)    True\n",
       "dtype: bool"
      ]
     },
     "execution_count": 8,
     "metadata": {},
     "output_type": "execute_result"
    }
   ],
   "source": [
    "df.isnull().any()"
   ]
  },
  {
   "cell_type": "code",
   "execution_count": 9,
   "metadata": {},
   "outputs": [],
   "source": [
    "df.replace({',':'.'}, regex = True, inplace = True)"
   ]
  },
  {
   "cell_type": "code",
   "execution_count": 17,
   "metadata": {},
   "outputs": [
    {
     "data": {
      "text/plain": [
       "Average temperature (C)      float64\n",
       "Minimum Temperature (C)      float64\n",
       "Maximum Temperature (C)      float64\n",
       "Precipitation (mm)           float64\n",
       "Weekend                      float64\n",
       "Beer consumption (liters)    float64\n",
       "dtype: object"
      ]
     },
     "execution_count": 17,
     "metadata": {},
     "output_type": "execute_result"
    }
   ],
   "source": [
    "df.dtypes"
   ]
  },
  {
   "cell_type": "code",
   "execution_count": 11,
   "metadata": {},
   "outputs": [],
   "source": [
    "df['Average temperature (C)'] = df['Average temperature (C)'].astype(float)"
   ]
  },
  {
   "cell_type": "code",
   "execution_count": 12,
   "metadata": {},
   "outputs": [],
   "source": [
    "df['Minimum Temperature (C)'] = df['Minimum Temperature (C)'].astype(float)"
   ]
  },
  {
   "cell_type": "code",
   "execution_count": 13,
   "metadata": {},
   "outputs": [],
   "source": [
    "df['Maximum Temperature (C)'] = df['Maximum Temperature (C)'].astype(float)"
   ]
  },
  {
   "cell_type": "code",
   "execution_count": 14,
   "metadata": {},
   "outputs": [],
   "source": [
    "df['Precipitation (mm)'] = df['Precipitation (mm)'].astype(float)"
   ]
  },
  {
   "cell_type": "code",
   "execution_count": 128,
   "metadata": {},
   "outputs": [
    {
     "data": {
      "text/plain": [
       "Average temperature (C)      576\n",
       "Minimum Temperature (C)      576\n",
       "Maximum Temperature (C)      576\n",
       "Precipitation (mm)           576\n",
       "Weekend                      576\n",
       "Beer consumption (liters)    576\n",
       "dtype: int64"
      ]
     },
     "execution_count": 128,
     "metadata": {},
     "output_type": "execute_result"
    }
   ],
   "source": [
    "df.isnull().sum()"
   ]
  },
  {
   "cell_type": "code",
   "execution_count": 15,
   "metadata": {},
   "outputs": [
    {
     "data": {
      "text/html": [
       "<div>\n",
       "<style scoped>\n",
       "    .dataframe tbody tr th:only-of-type {\n",
       "        vertical-align: middle;\n",
       "    }\n",
       "\n",
       "    .dataframe tbody tr th {\n",
       "        vertical-align: top;\n",
       "    }\n",
       "\n",
       "    .dataframe thead th {\n",
       "        text-align: right;\n",
       "    }\n",
       "</style>\n",
       "<table border=\"1\" class=\"dataframe\">\n",
       "  <thead>\n",
       "    <tr style=\"text-align: right;\">\n",
       "      <th></th>\n",
       "      <th>Average temperature (C)</th>\n",
       "      <th>Minimum Temperature (C)</th>\n",
       "      <th>Maximum Temperature (C)</th>\n",
       "      <th>Precipitation (mm)</th>\n",
       "      <th>Weekend</th>\n",
       "      <th>Beer consumption (liters)</th>\n",
       "    </tr>\n",
       "  </thead>\n",
       "  <tbody>\n",
       "    <tr>\n",
       "      <th>0</th>\n",
       "      <td>27.30</td>\n",
       "      <td>23.9</td>\n",
       "      <td>32.5</td>\n",
       "      <td>0.0</td>\n",
       "      <td>0.0</td>\n",
       "      <td>25.461</td>\n",
       "    </tr>\n",
       "    <tr>\n",
       "      <th>1</th>\n",
       "      <td>27.02</td>\n",
       "      <td>24.5</td>\n",
       "      <td>33.5</td>\n",
       "      <td>0.0</td>\n",
       "      <td>0.0</td>\n",
       "      <td>28.972</td>\n",
       "    </tr>\n",
       "    <tr>\n",
       "      <th>2</th>\n",
       "      <td>24.82</td>\n",
       "      <td>22.4</td>\n",
       "      <td>29.9</td>\n",
       "      <td>0.0</td>\n",
       "      <td>1.0</td>\n",
       "      <td>30.814</td>\n",
       "    </tr>\n",
       "    <tr>\n",
       "      <th>3</th>\n",
       "      <td>23.98</td>\n",
       "      <td>21.5</td>\n",
       "      <td>28.6</td>\n",
       "      <td>1.2</td>\n",
       "      <td>1.0</td>\n",
       "      <td>29.799</td>\n",
       "    </tr>\n",
       "    <tr>\n",
       "      <th>4</th>\n",
       "      <td>23.82</td>\n",
       "      <td>21.0</td>\n",
       "      <td>28.3</td>\n",
       "      <td>0.0</td>\n",
       "      <td>0.0</td>\n",
       "      <td>28.900</td>\n",
       "    </tr>\n",
       "    <tr>\n",
       "      <th>...</th>\n",
       "      <td>...</td>\n",
       "      <td>...</td>\n",
       "      <td>...</td>\n",
       "      <td>...</td>\n",
       "      <td>...</td>\n",
       "      <td>...</td>\n",
       "    </tr>\n",
       "    <tr>\n",
       "      <th>360</th>\n",
       "      <td>24.00</td>\n",
       "      <td>21.1</td>\n",
       "      <td>28.2</td>\n",
       "      <td>13.6</td>\n",
       "      <td>1.0</td>\n",
       "      <td>32.307</td>\n",
       "    </tr>\n",
       "    <tr>\n",
       "      <th>361</th>\n",
       "      <td>22.64</td>\n",
       "      <td>21.1</td>\n",
       "      <td>26.7</td>\n",
       "      <td>0.0</td>\n",
       "      <td>0.0</td>\n",
       "      <td>26.095</td>\n",
       "    </tr>\n",
       "    <tr>\n",
       "      <th>362</th>\n",
       "      <td>21.68</td>\n",
       "      <td>20.3</td>\n",
       "      <td>24.1</td>\n",
       "      <td>10.3</td>\n",
       "      <td>0.0</td>\n",
       "      <td>22.309</td>\n",
       "    </tr>\n",
       "    <tr>\n",
       "      <th>363</th>\n",
       "      <td>21.38</td>\n",
       "      <td>19.3</td>\n",
       "      <td>22.4</td>\n",
       "      <td>6.3</td>\n",
       "      <td>0.0</td>\n",
       "      <td>20.467</td>\n",
       "    </tr>\n",
       "    <tr>\n",
       "      <th>364</th>\n",
       "      <td>24.76</td>\n",
       "      <td>20.2</td>\n",
       "      <td>29.0</td>\n",
       "      <td>0.0</td>\n",
       "      <td>0.0</td>\n",
       "      <td>22.446</td>\n",
       "    </tr>\n",
       "  </tbody>\n",
       "</table>\n",
       "<p>365 rows × 6 columns</p>\n",
       "</div>"
      ],
      "text/plain": [
       "     Average temperature (C)  Minimum Temperature (C)  \\\n",
       "0                      27.30                     23.9   \n",
       "1                      27.02                     24.5   \n",
       "2                      24.82                     22.4   \n",
       "3                      23.98                     21.5   \n",
       "4                      23.82                     21.0   \n",
       "..                       ...                      ...   \n",
       "360                    24.00                     21.1   \n",
       "361                    22.64                     21.1   \n",
       "362                    21.68                     20.3   \n",
       "363                    21.38                     19.3   \n",
       "364                    24.76                     20.2   \n",
       "\n",
       "     Maximum Temperature (C)  Precipitation (mm)  Weekend  \\\n",
       "0                       32.5                 0.0      0.0   \n",
       "1                       33.5                 0.0      0.0   \n",
       "2                       29.9                 0.0      1.0   \n",
       "3                       28.6                 1.2      1.0   \n",
       "4                       28.3                 0.0      0.0   \n",
       "..                       ...                 ...      ...   \n",
       "360                     28.2                13.6      1.0   \n",
       "361                     26.7                 0.0      0.0   \n",
       "362                     24.1                10.3      0.0   \n",
       "363                     22.4                 6.3      0.0   \n",
       "364                     29.0                 0.0      0.0   \n",
       "\n",
       "     Beer consumption (liters)  \n",
       "0                       25.461  \n",
       "1                       28.972  \n",
       "2                       30.814  \n",
       "3                       29.799  \n",
       "4                       28.900  \n",
       "..                         ...  \n",
       "360                     32.307  \n",
       "361                     26.095  \n",
       "362                     22.309  \n",
       "363                     20.467  \n",
       "364                     22.446  \n",
       "\n",
       "[365 rows x 6 columns]"
      ]
     },
     "execution_count": 15,
     "metadata": {},
     "output_type": "execute_result"
    }
   ],
   "source": [
    "dataset=df.dropna()\n",
    "dataset"
   ]
  },
  {
   "cell_type": "code",
   "execution_count": 16,
   "metadata": {
    "collapsed": true
   },
   "outputs": [
    {
     "data": {
      "text/plain": [
       "Average temperature (C)      float64\n",
       "Minimum Temperature (C)      float64\n",
       "Maximum Temperature (C)      float64\n",
       "Precipitation (mm)           float64\n",
       "Weekend                      float64\n",
       "Beer consumption (liters)    float64\n",
       "dtype: object"
      ]
     },
     "execution_count": 16,
     "metadata": {},
     "output_type": "execute_result"
    }
   ],
   "source": [
    "dataset.dtypes"
   ]
  },
  {
   "cell_type": "code",
   "execution_count": 19,
   "metadata": {},
   "outputs": [],
   "source": [
    "from scipy import stats"
   ]
  },
  {
   "cell_type": "code",
   "execution_count": 20,
   "metadata": {},
   "outputs": [
    {
     "data": {
      "text/plain": [
       "array([[1.9125079 , 2.28133264, 1.365781  , 0.41906194, 0.63124277,\n",
       "        0.01357418],\n",
       "       [1.8243397 , 2.49392438, 1.59772167, 0.41906194, 0.63124277,\n",
       "        0.81277978],\n",
       "       [1.1315896 , 1.74985329, 0.76273528, 0.41906194, 1.58417656,\n",
       "        1.23207249],\n",
       "       ...,\n",
       "       [0.14284628, 1.0057822 , 0.58252056, 0.4115282 , 0.63124277,\n",
       "        0.7039126 ],\n",
       "       [0.04838036, 0.65146263, 0.97681969, 0.08896892, 0.63124277,\n",
       "        1.12320531],\n",
       "       [1.11269642, 0.97035024, 0.55398868, 0.41906194, 0.63124277,\n",
       "        0.67272742]])"
      ]
     },
     "execution_count": 20,
     "metadata": {},
     "output_type": "execute_result"
    }
   ],
   "source": [
    "z=np.abs(stats.zscore(dataset))\n",
    "z"
   ]
  },
  {
   "cell_type": "code",
   "execution_count": 21,
   "metadata": {},
   "outputs": [
    {
     "data": {
      "text/plain": [
       "(array([  7,  47,  66,  67, 251, 340, 355, 359], dtype=int64),\n",
       " array([3, 3, 3, 3, 3, 3, 3, 3], dtype=int64))"
      ]
     },
     "execution_count": 21,
     "metadata": {},
     "output_type": "execute_result"
    }
   ],
   "source": [
    "threshold=3\n",
    "np.where(z>threshold)"
   ]
  },
  {
   "cell_type": "code",
   "execution_count": 25,
   "metadata": {},
   "outputs": [
    {
     "data": {
      "text/html": [
       "<div>\n",
       "<style scoped>\n",
       "    .dataframe tbody tr th:only-of-type {\n",
       "        vertical-align: middle;\n",
       "    }\n",
       "\n",
       "    .dataframe tbody tr th {\n",
       "        vertical-align: top;\n",
       "    }\n",
       "\n",
       "    .dataframe thead th {\n",
       "        text-align: right;\n",
       "    }\n",
       "</style>\n",
       "<table border=\"1\" class=\"dataframe\">\n",
       "  <thead>\n",
       "    <tr style=\"text-align: right;\">\n",
       "      <th></th>\n",
       "      <th>Average temperature (C)</th>\n",
       "      <th>Minimum Temperature (C)</th>\n",
       "      <th>Maximum Temperature (C)</th>\n",
       "      <th>Precipitation (mm)</th>\n",
       "      <th>Weekend</th>\n",
       "      <th>Beer consumption (liters)</th>\n",
       "    </tr>\n",
       "  </thead>\n",
       "  <tbody>\n",
       "    <tr>\n",
       "      <th>0</th>\n",
       "      <td>27.30</td>\n",
       "      <td>23.9</td>\n",
       "      <td>32.5</td>\n",
       "      <td>0.0</td>\n",
       "      <td>0.0</td>\n",
       "      <td>25.461</td>\n",
       "    </tr>\n",
       "    <tr>\n",
       "      <th>1</th>\n",
       "      <td>27.02</td>\n",
       "      <td>24.5</td>\n",
       "      <td>33.5</td>\n",
       "      <td>0.0</td>\n",
       "      <td>0.0</td>\n",
       "      <td>28.972</td>\n",
       "    </tr>\n",
       "    <tr>\n",
       "      <th>2</th>\n",
       "      <td>24.82</td>\n",
       "      <td>22.4</td>\n",
       "      <td>29.9</td>\n",
       "      <td>0.0</td>\n",
       "      <td>1.0</td>\n",
       "      <td>30.814</td>\n",
       "    </tr>\n",
       "    <tr>\n",
       "      <th>3</th>\n",
       "      <td>23.98</td>\n",
       "      <td>21.5</td>\n",
       "      <td>28.6</td>\n",
       "      <td>1.2</td>\n",
       "      <td>1.0</td>\n",
       "      <td>29.799</td>\n",
       "    </tr>\n",
       "    <tr>\n",
       "      <th>4</th>\n",
       "      <td>23.82</td>\n",
       "      <td>21.0</td>\n",
       "      <td>28.3</td>\n",
       "      <td>0.0</td>\n",
       "      <td>0.0</td>\n",
       "      <td>28.900</td>\n",
       "    </tr>\n",
       "    <tr>\n",
       "      <th>...</th>\n",
       "      <td>...</td>\n",
       "      <td>...</td>\n",
       "      <td>...</td>\n",
       "      <td>...</td>\n",
       "      <td>...</td>\n",
       "      <td>...</td>\n",
       "    </tr>\n",
       "    <tr>\n",
       "      <th>360</th>\n",
       "      <td>24.00</td>\n",
       "      <td>21.1</td>\n",
       "      <td>28.2</td>\n",
       "      <td>13.6</td>\n",
       "      <td>1.0</td>\n",
       "      <td>32.307</td>\n",
       "    </tr>\n",
       "    <tr>\n",
       "      <th>361</th>\n",
       "      <td>22.64</td>\n",
       "      <td>21.1</td>\n",
       "      <td>26.7</td>\n",
       "      <td>0.0</td>\n",
       "      <td>0.0</td>\n",
       "      <td>26.095</td>\n",
       "    </tr>\n",
       "    <tr>\n",
       "      <th>362</th>\n",
       "      <td>21.68</td>\n",
       "      <td>20.3</td>\n",
       "      <td>24.1</td>\n",
       "      <td>10.3</td>\n",
       "      <td>0.0</td>\n",
       "      <td>22.309</td>\n",
       "    </tr>\n",
       "    <tr>\n",
       "      <th>363</th>\n",
       "      <td>21.38</td>\n",
       "      <td>19.3</td>\n",
       "      <td>22.4</td>\n",
       "      <td>6.3</td>\n",
       "      <td>0.0</td>\n",
       "      <td>20.467</td>\n",
       "    </tr>\n",
       "    <tr>\n",
       "      <th>364</th>\n",
       "      <td>24.76</td>\n",
       "      <td>20.2</td>\n",
       "      <td>29.0</td>\n",
       "      <td>0.0</td>\n",
       "      <td>0.0</td>\n",
       "      <td>22.446</td>\n",
       "    </tr>\n",
       "  </tbody>\n",
       "</table>\n",
       "<p>357 rows × 6 columns</p>\n",
       "</div>"
      ],
      "text/plain": [
       "     Average temperature (C)  Minimum Temperature (C)  \\\n",
       "0                      27.30                     23.9   \n",
       "1                      27.02                     24.5   \n",
       "2                      24.82                     22.4   \n",
       "3                      23.98                     21.5   \n",
       "4                      23.82                     21.0   \n",
       "..                       ...                      ...   \n",
       "360                    24.00                     21.1   \n",
       "361                    22.64                     21.1   \n",
       "362                    21.68                     20.3   \n",
       "363                    21.38                     19.3   \n",
       "364                    24.76                     20.2   \n",
       "\n",
       "     Maximum Temperature (C)  Precipitation (mm)  Weekend  \\\n",
       "0                       32.5                 0.0      0.0   \n",
       "1                       33.5                 0.0      0.0   \n",
       "2                       29.9                 0.0      1.0   \n",
       "3                       28.6                 1.2      1.0   \n",
       "4                       28.3                 0.0      0.0   \n",
       "..                       ...                 ...      ...   \n",
       "360                     28.2                13.6      1.0   \n",
       "361                     26.7                 0.0      0.0   \n",
       "362                     24.1                10.3      0.0   \n",
       "363                     22.4                 6.3      0.0   \n",
       "364                     29.0                 0.0      0.0   \n",
       "\n",
       "     Beer consumption (liters)  \n",
       "0                       25.461  \n",
       "1                       28.972  \n",
       "2                       30.814  \n",
       "3                       29.799  \n",
       "4                       28.900  \n",
       "..                         ...  \n",
       "360                     32.307  \n",
       "361                     26.095  \n",
       "362                     22.309  \n",
       "363                     20.467  \n",
       "364                     22.446  \n",
       "\n",
       "[357 rows x 6 columns]"
      ]
     },
     "execution_count": 25,
     "metadata": {},
     "output_type": "execute_result"
    }
   ],
   "source": [
    "dataset_no_outliers=dataset[(z<=3).all(axis=1)]\n",
    "dataset_no_outliers"
   ]
  },
  {
   "cell_type": "code",
   "execution_count": 26,
   "metadata": {},
   "outputs": [
    {
     "data": {
      "text/html": [
       "<div>\n",
       "<style scoped>\n",
       "    .dataframe tbody tr th:only-of-type {\n",
       "        vertical-align: middle;\n",
       "    }\n",
       "\n",
       "    .dataframe tbody tr th {\n",
       "        vertical-align: top;\n",
       "    }\n",
       "\n",
       "    .dataframe thead th {\n",
       "        text-align: right;\n",
       "    }\n",
       "</style>\n",
       "<table border=\"1\" class=\"dataframe\">\n",
       "  <thead>\n",
       "    <tr style=\"text-align: right;\">\n",
       "      <th></th>\n",
       "      <th>Average temperature (C)</th>\n",
       "      <th>Minimum Temperature (C)</th>\n",
       "      <th>Maximum Temperature (C)</th>\n",
       "      <th>Precipitation (mm)</th>\n",
       "      <th>Weekend</th>\n",
       "      <th>Beer consumption (liters)</th>\n",
       "    </tr>\n",
       "  </thead>\n",
       "  <tbody>\n",
       "    <tr>\n",
       "      <th>0</th>\n",
       "      <td>27.30</td>\n",
       "      <td>23.9</td>\n",
       "      <td>32.5</td>\n",
       "      <td>0.0</td>\n",
       "      <td>0.0</td>\n",
       "      <td>25.461</td>\n",
       "    </tr>\n",
       "    <tr>\n",
       "      <th>1</th>\n",
       "      <td>27.02</td>\n",
       "      <td>24.5</td>\n",
       "      <td>33.5</td>\n",
       "      <td>0.0</td>\n",
       "      <td>0.0</td>\n",
       "      <td>28.972</td>\n",
       "    </tr>\n",
       "    <tr>\n",
       "      <th>2</th>\n",
       "      <td>24.82</td>\n",
       "      <td>22.4</td>\n",
       "      <td>29.9</td>\n",
       "      <td>0.0</td>\n",
       "      <td>1.0</td>\n",
       "      <td>30.814</td>\n",
       "    </tr>\n",
       "    <tr>\n",
       "      <th>3</th>\n",
       "      <td>23.98</td>\n",
       "      <td>21.5</td>\n",
       "      <td>28.6</td>\n",
       "      <td>1.2</td>\n",
       "      <td>1.0</td>\n",
       "      <td>29.799</td>\n",
       "    </tr>\n",
       "    <tr>\n",
       "      <th>4</th>\n",
       "      <td>23.82</td>\n",
       "      <td>21.0</td>\n",
       "      <td>28.3</td>\n",
       "      <td>0.0</td>\n",
       "      <td>0.0</td>\n",
       "      <td>28.900</td>\n",
       "    </tr>\n",
       "    <tr>\n",
       "      <th>...</th>\n",
       "      <td>...</td>\n",
       "      <td>...</td>\n",
       "      <td>...</td>\n",
       "      <td>...</td>\n",
       "      <td>...</td>\n",
       "      <td>...</td>\n",
       "    </tr>\n",
       "    <tr>\n",
       "      <th>360</th>\n",
       "      <td>24.00</td>\n",
       "      <td>21.1</td>\n",
       "      <td>28.2</td>\n",
       "      <td>13.6</td>\n",
       "      <td>1.0</td>\n",
       "      <td>32.307</td>\n",
       "    </tr>\n",
       "    <tr>\n",
       "      <th>361</th>\n",
       "      <td>22.64</td>\n",
       "      <td>21.1</td>\n",
       "      <td>26.7</td>\n",
       "      <td>0.0</td>\n",
       "      <td>0.0</td>\n",
       "      <td>26.095</td>\n",
       "    </tr>\n",
       "    <tr>\n",
       "      <th>362</th>\n",
       "      <td>21.68</td>\n",
       "      <td>20.3</td>\n",
       "      <td>24.1</td>\n",
       "      <td>10.3</td>\n",
       "      <td>0.0</td>\n",
       "      <td>22.309</td>\n",
       "    </tr>\n",
       "    <tr>\n",
       "      <th>363</th>\n",
       "      <td>21.38</td>\n",
       "      <td>19.3</td>\n",
       "      <td>22.4</td>\n",
       "      <td>6.3</td>\n",
       "      <td>0.0</td>\n",
       "      <td>20.467</td>\n",
       "    </tr>\n",
       "    <tr>\n",
       "      <th>364</th>\n",
       "      <td>24.76</td>\n",
       "      <td>20.2</td>\n",
       "      <td>29.0</td>\n",
       "      <td>0.0</td>\n",
       "      <td>0.0</td>\n",
       "      <td>22.446</td>\n",
       "    </tr>\n",
       "  </tbody>\n",
       "</table>\n",
       "<p>365 rows × 6 columns</p>\n",
       "</div>"
      ],
      "text/plain": [
       "     Average temperature (C)  Minimum Temperature (C)  \\\n",
       "0                      27.30                     23.9   \n",
       "1                      27.02                     24.5   \n",
       "2                      24.82                     22.4   \n",
       "3                      23.98                     21.5   \n",
       "4                      23.82                     21.0   \n",
       "..                       ...                      ...   \n",
       "360                    24.00                     21.1   \n",
       "361                    22.64                     21.1   \n",
       "362                    21.68                     20.3   \n",
       "363                    21.38                     19.3   \n",
       "364                    24.76                     20.2   \n",
       "\n",
       "     Maximum Temperature (C)  Precipitation (mm)  Weekend  \\\n",
       "0                       32.5                 0.0      0.0   \n",
       "1                       33.5                 0.0      0.0   \n",
       "2                       29.9                 0.0      1.0   \n",
       "3                       28.6                 1.2      1.0   \n",
       "4                       28.3                 0.0      0.0   \n",
       "..                       ...                 ...      ...   \n",
       "360                     28.2                13.6      1.0   \n",
       "361                     26.7                 0.0      0.0   \n",
       "362                     24.1                10.3      0.0   \n",
       "363                     22.4                 6.3      0.0   \n",
       "364                     29.0                 0.0      0.0   \n",
       "\n",
       "     Beer consumption (liters)  \n",
       "0                       25.461  \n",
       "1                       28.972  \n",
       "2                       30.814  \n",
       "3                       29.799  \n",
       "4                       28.900  \n",
       "..                         ...  \n",
       "360                     32.307  \n",
       "361                     26.095  \n",
       "362                     22.309  \n",
       "363                     20.467  \n",
       "364                     22.446  \n",
       "\n",
       "[365 rows x 6 columns]"
      ]
     },
     "execution_count": 26,
     "metadata": {},
     "output_type": "execute_result"
    }
   ],
   "source": [
    "clean_dataset=pd.DataFrame(dataset)\n",
    "clean_dataset"
   ]
  },
  {
   "cell_type": "code",
   "execution_count": 27,
   "metadata": {},
   "outputs": [
    {
     "data": {
      "text/html": [
       "<div>\n",
       "<style scoped>\n",
       "    .dataframe tbody tr th:only-of-type {\n",
       "        vertical-align: middle;\n",
       "    }\n",
       "\n",
       "    .dataframe tbody tr th {\n",
       "        vertical-align: top;\n",
       "    }\n",
       "\n",
       "    .dataframe thead th {\n",
       "        text-align: right;\n",
       "    }\n",
       "</style>\n",
       "<table border=\"1\" class=\"dataframe\">\n",
       "  <thead>\n",
       "    <tr style=\"text-align: right;\">\n",
       "      <th></th>\n",
       "      <th>Average temperature (C)</th>\n",
       "      <th>Minimum Temperature (C)</th>\n",
       "      <th>Maximum Temperature (C)</th>\n",
       "      <th>Precipitation (mm)</th>\n",
       "      <th>Weekend</th>\n",
       "      <th>Beer consumption (liters)</th>\n",
       "    </tr>\n",
       "  </thead>\n",
       "  <tbody>\n",
       "    <tr>\n",
       "      <th>0</th>\n",
       "      <td>27.30</td>\n",
       "      <td>23.9</td>\n",
       "      <td>32.5</td>\n",
       "      <td>0.0</td>\n",
       "      <td>0.0</td>\n",
       "      <td>25.461</td>\n",
       "    </tr>\n",
       "    <tr>\n",
       "      <th>1</th>\n",
       "      <td>27.02</td>\n",
       "      <td>24.5</td>\n",
       "      <td>33.5</td>\n",
       "      <td>0.0</td>\n",
       "      <td>0.0</td>\n",
       "      <td>28.972</td>\n",
       "    </tr>\n",
       "    <tr>\n",
       "      <th>2</th>\n",
       "      <td>24.82</td>\n",
       "      <td>22.4</td>\n",
       "      <td>29.9</td>\n",
       "      <td>0.0</td>\n",
       "      <td>1.0</td>\n",
       "      <td>30.814</td>\n",
       "    </tr>\n",
       "    <tr>\n",
       "      <th>3</th>\n",
       "      <td>23.98</td>\n",
       "      <td>21.5</td>\n",
       "      <td>28.6</td>\n",
       "      <td>1.2</td>\n",
       "      <td>1.0</td>\n",
       "      <td>29.799</td>\n",
       "    </tr>\n",
       "    <tr>\n",
       "      <th>4</th>\n",
       "      <td>23.82</td>\n",
       "      <td>21.0</td>\n",
       "      <td>28.3</td>\n",
       "      <td>0.0</td>\n",
       "      <td>0.0</td>\n",
       "      <td>28.900</td>\n",
       "    </tr>\n",
       "    <tr>\n",
       "      <th>...</th>\n",
       "      <td>...</td>\n",
       "      <td>...</td>\n",
       "      <td>...</td>\n",
       "      <td>...</td>\n",
       "      <td>...</td>\n",
       "      <td>...</td>\n",
       "    </tr>\n",
       "    <tr>\n",
       "      <th>360</th>\n",
       "      <td>24.00</td>\n",
       "      <td>21.1</td>\n",
       "      <td>28.2</td>\n",
       "      <td>13.6</td>\n",
       "      <td>1.0</td>\n",
       "      <td>32.307</td>\n",
       "    </tr>\n",
       "    <tr>\n",
       "      <th>361</th>\n",
       "      <td>22.64</td>\n",
       "      <td>21.1</td>\n",
       "      <td>26.7</td>\n",
       "      <td>0.0</td>\n",
       "      <td>0.0</td>\n",
       "      <td>26.095</td>\n",
       "    </tr>\n",
       "    <tr>\n",
       "      <th>362</th>\n",
       "      <td>21.68</td>\n",
       "      <td>20.3</td>\n",
       "      <td>24.1</td>\n",
       "      <td>10.3</td>\n",
       "      <td>0.0</td>\n",
       "      <td>22.309</td>\n",
       "    </tr>\n",
       "    <tr>\n",
       "      <th>363</th>\n",
       "      <td>21.38</td>\n",
       "      <td>19.3</td>\n",
       "      <td>22.4</td>\n",
       "      <td>6.3</td>\n",
       "      <td>0.0</td>\n",
       "      <td>20.467</td>\n",
       "    </tr>\n",
       "    <tr>\n",
       "      <th>364</th>\n",
       "      <td>24.76</td>\n",
       "      <td>20.2</td>\n",
       "      <td>29.0</td>\n",
       "      <td>0.0</td>\n",
       "      <td>0.0</td>\n",
       "      <td>22.446</td>\n",
       "    </tr>\n",
       "  </tbody>\n",
       "</table>\n",
       "<p>357 rows × 6 columns</p>\n",
       "</div>"
      ],
      "text/plain": [
       "     Average temperature (C)  Minimum Temperature (C)  \\\n",
       "0                      27.30                     23.9   \n",
       "1                      27.02                     24.5   \n",
       "2                      24.82                     22.4   \n",
       "3                      23.98                     21.5   \n",
       "4                      23.82                     21.0   \n",
       "..                       ...                      ...   \n",
       "360                    24.00                     21.1   \n",
       "361                    22.64                     21.1   \n",
       "362                    21.68                     20.3   \n",
       "363                    21.38                     19.3   \n",
       "364                    24.76                     20.2   \n",
       "\n",
       "     Maximum Temperature (C)  Precipitation (mm)  Weekend  \\\n",
       "0                       32.5                 0.0      0.0   \n",
       "1                       33.5                 0.0      0.0   \n",
       "2                       29.9                 0.0      1.0   \n",
       "3                       28.6                 1.2      1.0   \n",
       "4                       28.3                 0.0      0.0   \n",
       "..                       ...                 ...      ...   \n",
       "360                     28.2                13.6      1.0   \n",
       "361                     26.7                 0.0      0.0   \n",
       "362                     24.1                10.3      0.0   \n",
       "363                     22.4                 6.3      0.0   \n",
       "364                     29.0                 0.0      0.0   \n",
       "\n",
       "     Beer consumption (liters)  \n",
       "0                       25.461  \n",
       "1                       28.972  \n",
       "2                       30.814  \n",
       "3                       29.799  \n",
       "4                       28.900  \n",
       "..                         ...  \n",
       "360                     32.307  \n",
       "361                     26.095  \n",
       "362                     22.309  \n",
       "363                     20.467  \n",
       "364                     22.446  \n",
       "\n",
       "[357 rows x 6 columns]"
      ]
     },
     "execution_count": 27,
     "metadata": {},
     "output_type": "execute_result"
    }
   ],
   "source": [
    "df_no_outliers=clean_dataset[(z<=3).all(axis=1)]\n",
    "df_no_outliers"
   ]
  },
  {
   "cell_type": "code",
   "execution_count": 28,
   "metadata": {},
   "outputs": [
    {
     "data": {
      "text/plain": [
       "array([[27.3 , 23.9 , 32.5 ,  0.  ,  0.  ],\n",
       "       [27.02, 24.5 , 33.5 ,  0.  ,  0.  ],\n",
       "       [24.82, 22.4 , 29.9 ,  0.  ,  1.  ],\n",
       "       ...,\n",
       "       [21.68, 20.3 , 24.1 , 10.3 ,  0.  ],\n",
       "       [21.38, 19.3 , 22.4 ,  6.3 ,  0.  ],\n",
       "       [24.76, 20.2 , 29.  ,  0.  ,  0.  ]])"
      ]
     },
     "execution_count": 28,
     "metadata": {},
     "output_type": "execute_result"
    }
   ],
   "source": [
    "x=df_no_outliers.iloc[:,:-1].values\n",
    "x"
   ]
  },
  {
   "cell_type": "code",
   "execution_count": 29,
   "metadata": {},
   "outputs": [
    {
     "data": {
      "text/plain": [
       "array([25.461, 28.972, 30.814, 29.799, 28.9  , 28.218, 29.732, 24.886,\n",
       "       37.937, 36.254, 25.743, 26.99 , 31.825, 25.724, 29.938, 37.69 ,\n",
       "       30.524, 29.265, 35.127, 29.13 , 25.795, 21.784, 28.348, 31.088,\n",
       "       21.52 , 29.972, 22.603, 22.696, 26.845, 27.03 , 32.057, 24.097,\n",
       "       31.655, 24.738, 19.95 , 22.821, 28.893, 29.926, 24.062, 21.137,\n",
       "       26.805, 26.389, 24.219, 30.231, 24.968, 25.343, 21.392, 22.922,\n",
       "       24.567, 30.943, 30.825, 25.692, 26.959, 25.366, 22.784, 26.241,\n",
       "       26.467, 27.475, 28.749, 24.146, 22.988, 30.3  , 22.654, 29.09 ,\n",
       "       23.042, 22.933, 22.409, 21.281, 28.844, 32.872, 20.903, 26.275,\n",
       "       20.167, 23.628, 24.213, 28.631, 25.855, 21.406, 21.617, 22.401,\n",
       "       27.989, 24.974, 29.76 , 26.116, 25.85 , 24.925, 21.979, 22.116,\n",
       "       24.867, 33.45 , 32.713, 22.356, 21.004, 23.362, 20.298, 24.862,\n",
       "       30.505, 25.07 , 22.62 , 22.001, 23.469, 21.735, 21.593, 33.822,\n",
       "       28.028, 24.304, 31.108, 19.113, 23.198, 24.388, 27.42 , 30.479,\n",
       "       21.838, 20.812, 19.761, 20.452, 17.939, 25.272, 28.049, 25.317,\n",
       "       21.826, 20.68 , 19.143, 18.146, 25.489, 23.537, 16.956, 19.052,\n",
       "       17.287, 20.3  , 20.538, 23.702, 28.411, 21.073, 24.215, 19.525,\n",
       "       20.786, 20.429, 27.25 , 31.387, 26.075, 22.162, 24.258, 24.683,\n",
       "       21.245, 25.937, 26.081, 16.228, 20.106, 21.055, 22.772, 25.142,\n",
       "       31.129, 30.498, 26.15 , 21.327, 22.008, 24.615, 22.375, 29.607,\n",
       "       32.983, 19.119, 21.029, 23.898, 24.534, 16.748, 23.055, 28.857,\n",
       "       23.022, 27.146, 17.241, 19.463, 21.86 , 24.227, 27.594, 24.863,\n",
       "       20.161, 20.824, 19.727, 14.94 , 24.632, 21.294, 18.448, 21.237,\n",
       "       19.849, 20.74 , 25.698, 26.691, 33.298, 25.64 , 23.937, 28.742,\n",
       "       21.748, 22.032, 24.827, 32.473, 20.62 , 21.825, 14.343, 19.029,\n",
       "       21.104, 20.738, 25.233, 18.975, 19.64 , 22.522, 24.227, 24.726,\n",
       "       32.467, 31.663, 25.867, 27.724, 22.039, 26.127, 26.58 , 31.31 ,\n",
       "       33.517, 23.181, 24.183, 24.594, 22.61 , 25.479, 29.621, 26.272,\n",
       "       22.541, 23.07 , 26.021, 17.655, 23.243, 30.177, 27.518, 23.21 ,\n",
       "       21.092, 23.357, 17.888, 22.217, 31.681, 31.833, 28.441, 22.389,\n",
       "       20.681, 24.222, 19.345, 21.827, 23.566, 20.227, 17.075, 21.525,\n",
       "       21.454, 21.814, 21.252, 20.464, 30.775, 25.343, 33.93 , 26.311,\n",
       "       31.836, 34.695, 29.829, 26.362, 32.589, 30.345, 29.411, 29.637,\n",
       "       32.184, 17.731, 24.114, 28.034, 22.664, 27.488, 24.876, 24.862,\n",
       "       24.679, 22.304, 30.329, 33.182, 23.849, 33.33 , 34.496, 26.249,\n",
       "       26.523, 26.793, 35.861, 27.387, 32.666, 22.199, 24.   , 27.871,\n",
       "       31.139, 23.065, 26.594, 27.657, 26.594, 28.084, 27.582, 24.862,\n",
       "       22.634, 31.649, 35.781, 24.429, 20.648, 22.741, 21.479, 23.134,\n",
       "       20.575, 24.33 , 28.61 , 28.456, 27.964, 29.569, 29.267, 28.647,\n",
       "       26.836, 29.386, 24.609, 26.964, 23.614, 22.96 , 20.332, 30.392,\n",
       "       31.933, 21.662, 21.689, 25.119, 25.285, 28.979, 34.382, 30.617,\n",
       "       20.238, 24.529, 30.471, 28.405, 29.513, 32.451, 32.78 , 27.713,\n",
       "       27.137, 22.933, 30.74 , 29.579, 29.188, 28.131, 28.617, 21.062,\n",
       "       24.337, 27.042, 32.536, 30.127, 24.834, 26.468, 31.572, 26.308,\n",
       "       32.307, 26.095, 22.309, 20.467, 22.446])"
      ]
     },
     "execution_count": 29,
     "metadata": {},
     "output_type": "execute_result"
    }
   ],
   "source": [
    "y=df_no_outliers.iloc[:,-1].values\n",
    "y"
   ]
  },
  {
   "cell_type": "code",
   "execution_count": 30,
   "metadata": {},
   "outputs": [
    {
     "data": {
      "text/plain": [
       "<AxesSubplot:>"
      ]
     },
     "execution_count": 30,
     "metadata": {},
     "output_type": "execute_result"
    },
    {
     "data": {
      "image/png": "[encoded data removed]",
      "text/plain": [
       "<Figure size 432x288 with 2 Axes>"
      ]
     },
     "metadata": {
      "needs_background": "light"
     },
     "output_type": "display_data"
    }
   ],
   "source": [
    "sns.heatmap(df_no_outliers.corr())"
   ]
  },
  {
   "cell_type": "code",
   "execution_count": 31,
   "metadata": {},
   "outputs": [
    {
     "data": {
      "text/plain": [
       "<matplotlib.collections.PathCollection at 0x20a28145280>"
      ]
     },
     "execution_count": 31,
     "metadata": {},
     "output_type": "execute_result"
    },
    {
     "data": {
      "image/png": "[encoded data removed]",
      "text/plain": [
       "<Figure size 432x288 with 1 Axes>"
      ]
     },
     "metadata": {
      "needs_background": "light"
     },
     "output_type": "display_data"
    }
   ],
   "source": [
    "plt.scatter(x[:,0],y)"
   ]
  },
  {
   "cell_type": "code",
   "execution_count": 32,
   "metadata": {},
   "outputs": [
    {
     "name": "stderr",
     "output_type": "stream",
     "text": [
      "E:\\New folder\\lib\\site-packages\\seaborn\\_decorators.py:36: FutureWarning: Pass the following variables as keyword args: x, y. From version 0.12, the only valid positional argument will be `data`, and passing other arguments without an explicit keyword will result in an error or misinterpretation.\n",
      "  warnings.warn(\n"
     ]
    },
    {
     "data": {
      "text/plain": [
       "<AxesSubplot:>"
      ]
     },
     "execution_count": 32,
     "metadata": {},
     "output_type": "execute_result"
    },
    {
     "data": {
      "image/png": "[encoded data removed]",
      "text/plain": [
       "<Figure size 432x288 with 1 Axes>"
      ]
     },
     "metadata": {
      "needs_background": "light"
     },
     "output_type": "display_data"
    }
   ],
   "source": [
    "sns.regplot(x[:,0],y)"
   ]
  },
  {
   "cell_type": "code",
   "execution_count": 33,
   "metadata": {},
   "outputs": [
    {
     "name": "stderr",
     "output_type": "stream",
     "text": [
      "E:\\New folder\\lib\\site-packages\\seaborn\\_decorators.py:36: FutureWarning: Pass the following variables as keyword args: x, y. From version 0.12, the only valid positional argument will be `data`, and passing other arguments without an explicit keyword will result in an error or misinterpretation.\n",
      "  warnings.warn(\n"
     ]
    },
    {
     "data": {
      "text/plain": [
       "<AxesSubplot:>"
      ]
     },
     "execution_count": 33,
     "metadata": {},
     "output_type": "execute_result"
    },
    {
     "data": {
      "image/png": "[encoded data removed]",
      "text/plain": [
       "<Figure size 432x288 with 1 Axes>"
      ]
     },
     "metadata": {
      "needs_background": "light"
     },
     "output_type": "display_data"
    }
   ],
   "source": [
    "sns.regplot(x[:,1],y)"
   ]
  },
  {
   "cell_type": "code",
   "execution_count": 34,
   "metadata": {},
   "outputs": [
    {
     "name": "stderr",
     "output_type": "stream",
     "text": [
      "E:\\New folder\\lib\\site-packages\\seaborn\\_decorators.py:36: FutureWarning: Pass the following variables as keyword args: x, y. From version 0.12, the only valid positional argument will be `data`, and passing other arguments without an explicit keyword will result in an error or misinterpretation.\n",
      "  warnings.warn(\n"
     ]
    },
    {
     "data": {
      "text/plain": [
       "<AxesSubplot:>"
      ]
     },
     "execution_count": 34,
     "metadata": {},
     "output_type": "execute_result"
    },
    {
     "data": {
      "image/png": "[encoded data removed]",
      "text/plain": [
       "<Figure size 432x288 with 1 Axes>"
      ]
     },
     "metadata": {
      "needs_background": "light"
     },
     "output_type": "display_data"
    }
   ],
   "source": [
    "sns.regplot(x[:,2],y)"
   ]
  },
  {
   "cell_type": "code",
   "execution_count": 35,
   "metadata": {},
   "outputs": [
    {
     "name": "stderr",
     "output_type": "stream",
     "text": [
      "E:\\New folder\\lib\\site-packages\\seaborn\\_decorators.py:36: FutureWarning: Pass the following variables as keyword args: x, y. From version 0.12, the only valid positional argument will be `data`, and passing other arguments without an explicit keyword will result in an error or misinterpretation.\n",
      "  warnings.warn(\n"
     ]
    },
    {
     "data": {
      "text/plain": [
       "<AxesSubplot:>"
      ]
     },
     "execution_count": 35,
     "metadata": {},
     "output_type": "execute_result"
    },
    {
     "data": {
      "image/png": "[encoded data removed]",
      "text/plain": [
       "<Figure size 432x288 with 1 Axes>"
      ]
     },
     "metadata": {
      "needs_background": "light"
     },
     "output_type": "display_data"
    }
   ],
   "source": [
    "sns.regplot(x[:,3],y)"
   ]
  },
  {
   "cell_type": "code",
   "execution_count": 36,
   "metadata": {},
   "outputs": [
    {
     "name": "stderr",
     "output_type": "stream",
     "text": [
      "E:\\New folder\\lib\\site-packages\\seaborn\\_decorators.py:36: FutureWarning: Pass the following variables as keyword args: x, y. From version 0.12, the only valid positional argument will be `data`, and passing other arguments without an explicit keyword will result in an error or misinterpretation.\n",
      "  warnings.warn(\n"
     ]
    },
    {
     "data": {
      "text/plain": [
       "<AxesSubplot:>"
      ]
     },
     "execution_count": 36,
     "metadata": {},
     "output_type": "execute_result"
    },
    {
     "data": {
      "image/png": "[encoded data removed]",
      "text/plain": [
       "<Figure size 432x288 with 1 Axes>"
      ]
     },
     "metadata": {
      "needs_background": "light"
     },
     "output_type": "display_data"
    }
   ],
   "source": [
    "sns.regplot(x[:,4],y)"
   ]
  },
  {
   "cell_type": "code",
   "execution_count": 92,
   "metadata": {},
   "outputs": [],
   "source": [
    "from sklearn.model_selection import train_test_split\n",
    "(x_train,x_test,y_train,y_test)=train_test_split(x,y,test_size=0.3,random_state=50)"
   ]
  },
  {
   "cell_type": "code",
   "execution_count": 93,
   "metadata": {},
   "outputs": [],
   "source": [
    "from sklearn.linear_model import LinearRegression"
   ]
  },
  {
   "cell_type": "code",
   "execution_count": 94,
   "metadata": {},
   "outputs": [],
   "source": [
    "mr=LinearRegression()"
   ]
  },
  {
   "cell_type": "code",
   "execution_count": 95,
   "metadata": {},
   "outputs": [
    {
     "data": {
      "text/plain": [
       "LinearRegression()"
      ]
     },
     "execution_count": 95,
     "metadata": {},
     "output_type": "execute_result"
    }
   ],
   "source": [
    "mr=LinearRegression()\n",
    "mr.fit(x_train,y_train)"
   ]
  },
  {
   "cell_type": "code",
   "execution_count": 96,
   "metadata": {
    "collapsed": true
   },
   "outputs": [
    {
     "data": {
      "text/plain": [
       "array([25.48198679, 22.1801559 , 18.06757586, 26.74878568, 25.40869556,\n",
       "       22.84913267, 21.51110888, 20.76122665, 24.29372667, 28.78436241,\n",
       "       27.8092446 , 22.91014495, 24.02640594, 19.92446544, 24.7413494 ,\n",
       "       27.20930977, 24.83749634, 23.96545309, 33.92293305, 29.76666734,\n",
       "       32.45194739, 27.1038848 , 21.49070269, 25.66350933, 20.93498657,\n",
       "       27.69816353, 27.02365849, 19.00247118, 24.30799197, 26.39029858,\n",
       "       18.00000275, 22.2603457 , 22.27594593, 31.07456871, 23.37440261,\n",
       "       29.61757485, 23.42570007, 29.08696572, 20.10344681, 20.46159354,\n",
       "       28.17177252, 29.16596882, 24.04325876, 30.61637746, 23.09512378,\n",
       "       23.77688036, 28.922571  , 35.30574794, 21.00570267, 31.21415761,\n",
       "       22.05622425, 24.61563295, 17.22883826, 23.72553665, 29.6953492 ,\n",
       "       27.53053208, 23.08251893, 24.26439879, 29.02186173, 24.45122679,\n",
       "       28.69860253, 29.38211574, 28.05522755, 34.39608649, 27.57294526,\n",
       "       19.8881457 , 21.14936025, 25.12359477, 32.13190624, 21.70228027,\n",
       "       25.79888676, 27.84489164, 29.01857832, 26.80160369, 29.83462006,\n",
       "       24.11312361, 20.20007462, 30.50458463, 25.21088282, 26.28923654,\n",
       "       28.03616816, 18.98365949, 23.67048521, 20.11482599, 24.78722934,\n",
       "       18.15987989, 20.74617988, 24.99163491, 25.58180251, 20.04037764,\n",
       "       20.20082175, 24.39886508, 20.22152823, 22.45628368, 25.24654677,\n",
       "       32.75165199, 29.79096861, 28.29607696, 25.83094586, 27.80770984,\n",
       "       35.30427519, 31.05570577, 22.72728876, 30.61116822, 30.80765277,\n",
       "       30.23909821, 19.64817836, 26.61695119])"
      ]
     },
     "execution_count": 96,
     "metadata": {},
     "output_type": "execute_result"
    }
   ],
   "source": [
    "y_pred=mr.predict(x_test)\n",
    "y_pred"
   ]
  },
  {
   "cell_type": "code",
   "execution_count": 97,
   "metadata": {},
   "outputs": [
    {
     "data": {
      "text/plain": [
       "0.7808343931265539"
      ]
     },
     "execution_count": 97,
     "metadata": {},
     "output_type": "execute_result"
    }
   ],
   "source": [
    "from sklearn.metrics import r2_score\n",
    "r2_score(y_test,y_pred)"
   ]
  },
  {
   "cell_type": "code",
   "execution_count": 98,
   "metadata": {},
   "outputs": [],
   "source": [
    "from sklearn.tree import DecisionTreeRegressor"
   ]
  },
  {
   "cell_type": "code",
   "execution_count": 116,
   "metadata": {},
   "outputs": [
    {
     "data": {
      "text/plain": [
       "DecisionTreeRegressor()"
      ]
     },
     "execution_count": 116,
     "metadata": {},
     "output_type": "execute_result"
    }
   ],
   "source": [
    "DecisionTreeRegressor()"
   ]
  },
  {
   "cell_type": "code",
   "execution_count": 119,
   "metadata": {},
   "outputs": [],
   "source": [
    "dt=DecisionTreeRegressor(criterion='mse',random_state=0)"
   ]
  },
  {
   "cell_type": "code",
   "execution_count": 120,
   "metadata": {},
   "outputs": [
    {
     "data": {
      "text/plain": [
       "DecisionTreeRegressor(random_state=0)"
      ]
     },
     "execution_count": 120,
     "metadata": {},
     "output_type": "execute_result"
    }
   ],
   "source": [
    "dt.fit(x_train,y_train)"
   ]
  },
  {
   "cell_type": "code",
   "execution_count": 121,
   "metadata": {},
   "outputs": [
    {
     "data": {
      "text/plain": [
       "array([25.64 , 21.784, 17.241, 22.603, 25.64 , 20.161, 21.055, 25.317,\n",
       "       26.845, 27.42 , 27.42 , 18.975, 21.617, 20.538, 22.654, 32.872,\n",
       "       24.388, 26.095, 34.382, 26.311, 34.496, 30.775, 20.575, 31.108,\n",
       "       24.862, 24.827, 23.937, 18.146, 22.039, 30.471, 19.849, 24.683,\n",
       "       22.741, 29.76 , 22.409, 32.467, 25.698, 31.129, 21.055, 21.252,\n",
       "       29.732, 28.028, 23.042, 29.579, 24.222, 27.146, 25.461, 30.943,\n",
       "       20.3  , 31.933, 21.073, 20.648, 18.146, 21.748, 28.844, 28.61 ,\n",
       "       20.167, 22.409, 28.844, 24.114, 29.732, 32.467, 25.343, 30.943,\n",
       "       31.572, 23.243, 19.029, 22.61 , 32.057, 24.215, 25.64 , 26.959,\n",
       "       32.467, 28.631, 27.387, 22.664, 22.522, 29.386, 27.594, 29.513,\n",
       "       23.702, 21.454, 22.821, 19.143, 25.285, 18.146, 21.004, 22.401,\n",
       "       28.9  , 21.004, 19.143, 20.903, 20.3  , 21.735, 22.446, 32.057,\n",
       "       31.31 , 31.649, 24.146, 25.343, 30.943, 29.76 , 18.975, 29.188,\n",
       "       28.348, 26.389, 19.345, 28.631])"
      ]
     },
     "execution_count": 121,
     "metadata": {},
     "output_type": "execute_result"
    }
   ],
   "source": [
    "y_pred=dt.predict(x_test)\n",
    "y_pred"
   ]
  },
  {
   "cell_type": "code",
   "execution_count": 122,
   "metadata": {},
   "outputs": [
    {
     "data": {
      "text/plain": [
       "0.5672236791687686"
      ]
     },
     "execution_count": 122,
     "metadata": {},
     "output_type": "execute_result"
    }
   ],
   "source": [
    "from sklearn.metrics import r2_score\n",
    "r2_score(y_test,y_pred)"
   ]
  },
  {
   "cell_type": "code",
   "execution_count": null,
   "metadata": {},
   "outputs": [],
   "source": []
  }
 ],
 "metadata": {
  "kernelspec": {
   "display_name": "Python 3",
   "language": "python",
   "name": "python3"
  },
  "language_info": {
   "codemirror_mode": {
    "name": "ipython",
    "version": 3
   },
   "file_extension": ".py",
   "mimetype": "text/x-python",
   "name": "python",
   "nbconvert_exporter": "python",
   "pygments_lexer": "ipython3",
   "version": "3.8.5"
  }
 },
 "nbformat": 4,
 "nbformat_minor": 4
}
